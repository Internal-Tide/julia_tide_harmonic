{
 "cells": [
  {
   "cell_type": "code",
   "execution_count": 5,
   "metadata": {},
   "outputs": [],
   "source": [
    "from __future__ import division\n",
    "import numpy as np\n",
    "import scipy as sp\n",
    "from ttide.t_astron import t_astron\n",
    "from ttide.t_getconsts import t_getconsts\n",
    "import ttide.t_utils as tu"
   ]
  },
  {
   "cell_type": "code",
   "execution_count": 4,
   "metadata": {},
   "outputs": [],
   "source": [
    "def t_vuf(ltype, ctime, ju, lat=None):\n",
    "\n",
    "    astro, ader = t_astron(ctime)\n",
    "\n",
    "    if ltype == \"full\":\n",
    "        const = t_getconsts(ctime)\n",
    "        # Phase relative to Greenwich (in units of cycles).\n",
    "        v = np.fmod(np.dot(const.doodson, astro) + const.semi, 1)\n",
    "        v = v[(ju - 1)]\n",
    "        u = np.zeros(shape=(v.shape, v.shape), dtype=\"float64\")\n",
    "        f = np.ones(shape=(v.shape, v.shape), dtype=\"float64\")\n",
    "    else:\n",
    "        const, sat, shallow = t_getconsts(ctime)\n",
    "\n",
    "        v = np.fmod(np.dot(const[\"doodson\"], astro) + const[\"semi\"], 1)\n",
    "\n",
    "        if lat is not None:\n",
    "\n",
    "            if abs(lat) < 5:\n",
    "                lat = np.sign(lat) * 5\n",
    "            slat = np.sin(np.pi * lat / 180)\n",
    "            # Satellite amplitude ratio adjustment for latitude.\n",
    "            rr = sat[\"amprat\"]\n",
    "            # no amplitude correction\n",
    "            if np.isfinite(lat):\n",
    "                j = np.flatnonzero(sat[\"ilatfac\"] == 1)\n",
    "                # latitude correction for diurnal constituents\n",
    "                rr[j] = rr[j] * 0.36309 * (1.0 - 5.0 * slat * slat) / slat\n",
    "                j = np.flatnonzero(sat[\"ilatfac\"] == 2)\n",
    "                # latitude correction for semi-diurnal constituents\n",
    "                rr[j] = rr[j] * 2.59808 * slat\n",
    "            else:\n",
    "                rr[sat[\"ilatfac\"] > 0] = 0\n",
    "            # Calculate nodal amplitude and phase corrections.\n",
    "            uu = np.fmod(np.dot(sat[\"deldood\"], astro.T[3:6]) + sat[\"phcorr\"], 1)\n",
    "\n",
    "            nsat = np.max(sat[\"iconst\"].shape)\n",
    "            nfreq = np.max(const[\"isat\"].shape)\n",
    "\n",
    "            fsum = np.array(\n",
    "                1\n",
    "                + sp.sparse.csr_matrix(\n",
    "                    (\n",
    "                        np.squeeze(rr * np.exp(1j * 2 * np.pi * uu)),\n",
    "                        (np.arange(0, nsat), np.squeeze(sat[\"iconst\"] - 1)),\n",
    "                    ),\n",
    "                    shape=(nsat, nfreq),\n",
    "                ).sum(axis=0)\n",
    "            ).flatten()\n",
    "\n",
    "            f = np.absolute(fsum)\n",
    "            u = np.angle(fsum) / (2 * np.pi)\n",
    "\n",
    "            # Compute amplitude and phase corrections\n",
    "            # for shallow water constituents.\n",
    "            shallow_m1 = const[\"ishallow\"].astype(int) - 1\n",
    "            iname_m1 = shallow[\"iname\"].astype(int) - 1\n",
    "            coefs = shallow[\"coef\"].astype(np.float64)\n",
    "            range_cache = {n: np.arange(n) for n in range(const[\"nshallow\"].max() + 1)}\n",
    "            for k in np.flatnonzero(np.isfinite(const[\"ishallow\"])):\n",
    "                ik = shallow_m1[k] + range_cache[const[\"nshallow\"][k]]\n",
    "                iname = iname_m1[ik]\n",
    "                coef = coefs[ik]\n",
    "                f[k] = np.multiply.reduce(np.power(f[iname], coef))\n",
    "                u[k] = u[iname].dot(coef)\n",
    "                v[k] = v[iname].dot(coef)\n",
    "\n",
    "            f = f[ju]\n",
    "            u = u[ju]\n",
    "            v = v[ju]\n",
    "\n",
    "        else:\n",
    "\n",
    "            for k in np.flatnonzero(np.isfinite(const[\"ishallow\"])):\n",
    "                ik = (\n",
    "                    const[\"ishallow\"][k] - 1 + np.array(range(0, const[\"nshallow\"][k]))\n",
    "                ).astype(int)\n",
    "                v[k] = np.dot(v[shallow[\"iname\"][ik] - 1], shallow[\"coef\"][ik])\n",
    "\n",
    "            v = v[ju]\n",
    "            f = np.ones(len(v))\n",
    "            u = np.zeros(len(v))\n",
    "\n",
    "    return v, u, f\n",
    "\n"
   ]
  },
  {
   "cell_type": "code",
   "execution_count": 6,
   "metadata": {},
   "outputs": [],
   "source": [
    "a = t_vuf(ltype=\"nodal\", ctime=0, ju=1, lat=0)\")"
   ]
  }
 ],
 "metadata": {
  "kernelspec": {
   "display_name": "python3.10",
   "language": "python",
   "name": "python3"
  },
  "language_info": {
   "codemirror_mode": {
    "name": "ipython",
    "version": 3
   },
   "file_extension": ".py",
   "mimetype": "text/x-python",
   "name": "python",
   "nbconvert_exporter": "python",
   "pygments_lexer": "ipython3",
   "version": "3.10.9"
  },
  "orig_nbformat": 4,
  "vscode": {
   "interpreter": {
    "hash": "0ab9413fe297acfc42964f6c2d9d48cf344d7c4dac5a8753e21797c2b4178207"
   }
  }
 },
 "nbformat": 4,
 "nbformat_minor": 2
}
