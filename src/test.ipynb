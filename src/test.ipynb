{
 "cells": [
  {
   "cell_type": "code",
   "execution_count": 1,
   "metadata": {},
   "outputs": [
    {
     "name": "stderr",
     "output_type": "stream",
     "text": [
      "/tmp/ipykernel_7112/1535637445.py:7: DeprecationWarning: Please use `netcdf_file` from the `scipy.io` namespace, the `scipy.io.netcdf` namespace is deprecated.\n",
      "  from scipy.io.netcdf import netcdf_file as nopen\n"
     ]
    }
   ],
   "source": [
    "from __future__ import division\n",
    "import numpy as np\n",
    "import copy\n",
    "# from .t_astron import t_astron\n",
    "from ttide.t_astron import t_astron\n",
    "import os.path as path\n",
    "from scipy.io.netcdf import netcdf_file as nopen\n",
    "import datetime\n",
    "from ttide.time import date2num"
   ]
  },
  {
   "cell_type": "code",
   "execution_count": 3,
   "metadata": {},
   "outputs": [],
   "source": [
    "\n",
    "_base_dir = path.join(\"/home/tzw-linux/software/ttide_py-master/ttide\", 'data')\n",
    "has_const = path.exists(path.join(_base_dir, 't_constituents_const.nc'))\n",
    "has_sat = path.exists(path.join(_base_dir, 't_constituents_sat.nc'))\n",
    "has_shallow = path.exists(path.join(_base_dir, 't_constituents_shallow.nc'))\n",
    "\n",
    "if (has_const and has_sat and has_shallow):\n",
    "    _const = {}\n",
    "    _sat = {}\n",
    "    _shallow = {}\n",
    "\n",
    "    ncid = nopen(path.join(_base_dir,\n",
    "                           't_constituents_const.nc'), 'r', mmap=False)\n",
    "    for key in ncid.variables.keys():\n",
    "        _const[key] = ncid.variables[key].data\n",
    "    ncid.close()\n",
    "\n",
    "    ncid = nopen(path.join(_base_dir,\n",
    "                           't_constituents_sat.nc'), 'r', mmap=False)\n",
    "    for key in ncid.variables.keys():\n",
    "        _sat[key] = ncid.variables[key].data\n",
    "    ncid.close()\n",
    "\n",
    "    ncid = nopen(path.join(_base_dir,\n",
    "                           't_constituents_shallow.nc'), 'r', mmap=False)\n",
    "    for key in ncid.variables.keys():\n",
    "        _shallow[key] = ncid.variables[key].data\n",
    "    ncid.close()\n",
    "\n",
    "    # Correct issues with name strings\n",
    "    _const['name'] = np.array([b''.join([s for s in arr])\n",
    "                               for arr in _const['name']])\n",
    "\n",
    "    _const['kmpr'] = np.array([b''.join([s for s in arr])\n",
    "                               for arr in _const['kmpr']])\n",
    "\n",
    "else:\n",
    "    print('You do not have t_constituents_*.npy ' +\n",
    "          'check that package installation is correct.')\n",
    "    _const = {}\n",
    "    _sat = {}\n",
    "    _shallow = {}\n"
   ]
  },
  {
   "cell_type": "code",
   "execution_count": 4,
   "metadata": {},
   "outputs": [],
   "source": [
    "ctime = datetime.datetime(2015,1,1,0,0,0)"
   ]
  },
  {
   "cell_type": "code",
   "execution_count": 6,
   "metadata": {},
   "outputs": [],
   "source": [
    "const = copy.deepcopy(_const)\n",
    "sat = copy.deepcopy(_sat)\n",
    "shallow = copy.deepcopy(_shallow)\n",
    "\n",
    "astro, ader = t_astron(date2num(ctime))\n",
    "\n",
    "ii = np.isfinite(const['ishallow'])\n",
    "const['freq'][~ii] = np.dot(const['doodson'][~ii, :], ader) / 24\n",
    "\n",
    "shallow_m1 = const['ishallow'].astype(int) -1\n",
    "iname_m1 = shallow['iname'].astype(int) -1\n",
    "range_cache = {n:np.arange(n) for n in range(const['nshallow'].max()+1)}\n",
    "for k in np.flatnonzero(ii):\n",
    "    ik = shallow_m1[k] + range_cache[const['nshallow'][k]]\n",
    "    # print(ik)\n",
    "    const['freq'][k] = const['freq'][iname_m1[ik]].dot(shallow['coef'][ik])\n"
   ]
  },
  {
   "cell_type": "code",
   "execution_count": 67,
   "metadata": {},
   "outputs": [
    {
     "data": {
      "text/plain": [
       "array([[ 0.,  0.,  0.,  0.,  0.,  0.],\n",
       "       [ 0.,  0.,  1.,  0.,  0., -1.],\n",
       "       [ 0.,  0.,  2.,  0.,  0.,  0.],\n",
       "       [ 0.,  1., -2.,  1.,  0.,  0.],\n",
       "       [ 0.,  1.,  0., -1.,  0.,  0.],\n",
       "       [ 0.,  2., -2.,  0.,  0.,  0.],\n",
       "       [ 0.,  2.,  0.,  0.,  0.,  0.],\n",
       "       [ 1., -4.,  2.,  1.,  0.,  0.],\n",
       "       [ 1., -3.,  0.,  2.,  0.,  0.],\n",
       "       [ 1., -3.,  2.,  0.,  0.,  0.]])"
      ]
     },
     "execution_count": 67,
     "metadata": {},
     "output_type": "execute_result"
    }
   ],
   "source": [
    "const[\"doodson\"][0:10,:]"
   ]
  }
 ],
 "metadata": {
  "kernelspec": {
   "display_name": "python3.10",
   "language": "python",
   "name": "python3"
  },
  "language_info": {
   "codemirror_mode": {
    "name": "ipython",
    "version": 3
   },
   "file_extension": ".py",
   "mimetype": "text/x-python",
   "name": "python",
   "nbconvert_exporter": "python",
   "pygments_lexer": "ipython3",
   "version": "3.10.9 | packaged by conda-forge | (main, Feb  2 2023, 20:20:04) [GCC 11.3.0]"
  },
  "orig_nbformat": 4,
  "vscode": {
   "interpreter": {
    "hash": "0ab9413fe297acfc42964f6c2d9d48cf344d7c4dac5a8753e21797c2b4178207"
   }
  }
 },
 "nbformat": 4,
 "nbformat_minor": 2
}
